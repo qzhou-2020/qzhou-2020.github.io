{
 "cells": [
  {
   "cell_type": "code",
   "execution_count": null,
   "id": "7a45f2c5",
   "metadata": {},
   "outputs": [],
   "source": [
    "# enable equation numbering\n",
    "\n",
    "%%javascript\n",
    "MathJax.Hub.Config({\n",
    "    TeX: { equationNumbers: { autoNumber: \"AMS\" } }\n",
    "});"
   ]
  },
  {
   "cell_type": "markdown",
   "id": "dfae48b3",
   "metadata": {},
   "source": [
    "define short notation for tex:\n",
    "$\\newcommand{\\Embb}{\\mathbb{E}}$\n",
    "$\\newcommand{\\Fmbb}{\\mathbb{F}}$\n",
    "$\\newcommand{\\Gmbb}{\\mathbb{G}}$\n",
    "\n",
    "$\\newcommand{\\Acal}{\\mathcal{A}}$\n",
    "$\\newcommand{\\Fcal}{\\mathcal{F}}$\n",
    "$\\newcommand{\\Gcal}{\\mathcal{G}}$\n",
    "\n",
    "$\\newcommand{\\given}{\\:\\vert\\:}$"
   ]
  },
  {
   "cell_type": "markdown",
   "id": "b7ef1a91",
   "metadata": {},
   "source": [
    "The goal is to find a policy for ordering a single product over $T+1$ periods ($t=0,1,\\cdots,T$) to minimize the expected total costs, which consists of ordering costs, holding costs, and backordering costs. The inventory level is $x_t$, the demand $d_t$ is uncertain, and the ordered amount is $a_t$. The inventory level evolves according to \n",
    "\n",
    "$$ x_{t+1} = x_t + a_t - d_t,\\quad x_0 = 0 $$\n",
    "\n",
    "Cost functions are linear: order cost is $k_t a_t$, holding cost is $h_t[x_{t+1}]^+$, and backordering cost is $-p_t [x_{t+1}]^-$. The objective is\n",
    "\n",
    "\\begin{align*}\n",
    "\\inf_{a_0,\\cdots,a_T}\\;\\; & \\mathbb{E}\\left[\\sum_{t=0}^T k_t a_t + \\max\\{h_t x_{t+1}, -p_t x_{t+1}\\}\\right] \\\\\n",
    "\\text{s.t.}\\;\\; & x_{t+1} = x_t + a_t - d_t \\\\\n",
    "& x_0 = 0 \\\\\n",
    "& a_t \\geq 0, \\quad \\forall\\, t \\\\\n",
    "\\end{align*}\n",
    "\n",
    "---\n",
    "\n",
    "In the framework of information relaxation [BS2022](https://faculty.fuqua.duke.edu/~dbbrown/bio/papers/brown_smith_2021_information_relaxation_review.pdf), we can define a sequence of sets of information $\\Fmbb=(\\Fcal_0,\\cdots,\\Fcal_T)$, which is called _filtration_ in the oringinal paper, and $\\Fcal_t$ is the set of available information at period $t$ such that $\\Fcal_t \\subseteq \\Fcal_{t+1} \\subseteq \\Fcal$. \n",
    "\n",
    "A policy denoted as $\\alpha_\\Fmbb \\in \\Acal_\\Fmbb$ indicates under the available information $\\Fcal_t$ we will select action $a_t \\in \\Acal_t$. If we define the cumulative cost as\n",
    "\n",
    "$$r(\\alpha) = \\sum_{t=0}^T r_t(a_t, d_t) = \\sum_{t=0}^T k_t a_t + \\max\\{h_t(x_t + a_t - d_t), -p_t(x_t + a_t - d_t)\\}$$\n",
    "\n",
    "The objective can simply be\n",
    "\n",
    "$$\\inf_{\\alpha_\\Fmbb \\in \\Acal_\\Fmbb} \\Embb[r(\\alpha_\\Fmbb)]$$"
   ]
  },
  {
   "cell_type": "markdown",
   "id": "2c27a038",
   "metadata": {},
   "source": [
    "Confer __Example numerical test__ in Section 6.3 in [BS2022](https://faculty.fuqua.duke.edu/~dbbrown/bio/papers/brown_smith_2021_information_relaxation_review.pdf), we know the cost structures, the demand distribution, we can directly solve a DP problem with backward induction for $T=4$.\n",
    "\n",
    "We reformulation the objective function as DP\n",
    "\n",
    "\\begin{equation}\n",
    "V_t(x_t) = \\min_{a_t \\geq 0} k_t a_t + \\Embb[\\max\\{h_t x_{t+1}, -p_t x_{t+1}\\} + V_{t+1}(x_{t+1})] \\label{}\n",
    "\\end{equation}\n",
    "\n",
    "where $x_0=0$ and $V_5(\\cdot)=0$.\n",
    "\n",
    "Notice the complexity is $|S| \\times |A| \\times T \\times |D|$"
   ]
  },
  {
   "cell_type": "code",
   "execution_count": 2,
   "id": "5fef80b0",
   "metadata": {},
   "outputs": [],
   "source": [
    "import numpy as np\n",
    "from scipy.stats import poisson"
   ]
  },
  {
   "cell_type": "code",
   "execution_count": 8,
   "id": "7afc8b43",
   "metadata": {},
   "outputs": [],
   "source": [
    "def opt_DP(t, param, distri=poisson, \n",
    "           srange=(-100, 100, 1), arange=(0, 100, 1), disp=False):\n",
    "    \"\"\"\n",
    "    Return a table of (inventory level, minimized expected total costs)\n",
    "    Inputs:\n",
    "        t      ~ period index, integer\n",
    "        param  ~ parameters, dict\n",
    "        distri ~ distribution, see scipy.stats\n",
    "        srange ~ value range of inventory level, (min, max, step)\n",
    "        arange ~ value range for action, (min, max, step)\n",
    "    Output:\n",
    "        table  ~ hash table (dict), \n",
    "                    key is the inventory level (integer)\n",
    "                    value is the min expected total cost\n",
    "    \"\"\"\n",
    "    \n",
    "    # parse parameter\n",
    "    T = param['T']\n",
    "    k = param['k'][t]\n",
    "    h = param['h'][t]\n",
    "    p = param['p'][t]\n",
    "    Ed = param['Ed'][t]\n",
    "    \n",
    "    if t == T:\n",
    "        # there is no next value function\n",
    "        nV = None\n",
    "    else:\n",
    "        # fetch next period value function\n",
    "        nV = opt_DP(t+1, param, distri, srange, arange)\n",
    "        \n",
    "    # solve min problem at the current period\n",
    "    \n",
    "    table = dict()\n",
    "    for x in range(*srange):\n",
    "        # action indexed current value\n",
    "        Va = inner_problem(x, arange, distri, Ed, k, h, p, nV)\n",
    "        a, Vmin = min(Va.items(), key=lambda x: x[1])\n",
    "        table[x] = {'V': Vmin, 'a': a}\n",
    "    \n",
    "    # display progress\n",
    "    if disp: print(f\"Period {t} is finished.\")\n",
    "        \n",
    "    return table"
   ]
  },
  {
   "cell_type": "code",
   "execution_count": 5,
   "id": "d1fb03ef",
   "metadata": {},
   "outputs": [],
   "source": [
    "def inner_problem(x, arange, distri, mu, k, h, p, tbl):\n",
    "    \"\"\"\n",
    "    Return (action, value) list when current inventory is x\n",
    "    Inputs:\n",
    "        x      ~ current inventory level\n",
    "        arange ~ set of available actions\n",
    "        distri ~ distribution function\n",
    "        mu     ~ parameter of the distribution\n",
    "        k      ~ unit order cost\n",
    "        h      ~ unit hold cost\n",
    "        p      ~ unit backorder cost\n",
    "        tbl    ~ value function of the next period\n",
    "    Output:\n",
    "        value  ~ hash table\n",
    "    \"\"\"\n",
    "    \n",
    "    value = dict()\n",
    "    for a in range(*arange):\n",
    "        value[a] = k * a\n",
    "        # calculate expectation\n",
    "        # todo, make the parameter changeable\n",
    "        for d in range(70):\n",
    "            pr = distri.pmf(d, mu)\n",
    "            nx = x + a - d\n",
    "            f = max(h*nx, -p*nx)\n",
    "            nV = {'V': 0, 'a':0} if tbl is None else tbl.get(nx, {'V': np.inf, 'a': np.inf})\n",
    "            value[a] = value[a] + pr * (f + nV['V'])\n",
    "    return value"
   ]
  },
  {
   "cell_type": "code",
   "execution_count": 11,
   "id": "c8da83a2",
   "metadata": {},
   "outputs": [
    {
     "name": "stdout",
     "output_type": "stream",
     "text": [
      "The optimal value is: 293.93\n"
     ]
    }
   ],
   "source": [
    "# time-varying demand and constant costs\n",
    "\n",
    "param1 = {\n",
    "    'T': 4,\n",
    "    'k': [2, 2, 2, 2, 2],\n",
    "    'h': [1, 1, 1, 1, -1],\n",
    "    'p': [9, 9, 9, 9, 11],\n",
    "    'Ed': [40, 40, 40, 2, 2]\n",
    "}\n",
    "\n",
    "V = opt_DP(0, param1)\n",
    "print(f\"The optimal value is: {V[0]['V']:.2f}\")"
   ]
  },
  {
   "cell_type": "code",
   "execution_count": 12,
   "id": "fdf94388",
   "metadata": {},
   "outputs": [
    {
     "name": "stdout",
     "output_type": "stream",
     "text": [
      "The optimal value is: 752.45\n"
     ]
    }
   ],
   "source": [
    "# constant demand and time-varying costs\n",
    "\n",
    "param2 = {\n",
    "    'T': 4,\n",
    "    'k': [7, 8, 3, 4, 1.5],\n",
    "    'h': [1, 1, 1, 1, -1],\n",
    "    'p': [9, 9, 9, 9, 11],\n",
    "    'Ed': [30, 30, 30, 30, 30]\n",
    "}\n",
    "\n",
    "V = opt_DP(0, param2)\n",
    "print(f\"The optimal value is: {V[0]['V']:.2f}\")"
   ]
  },
  {
   "cell_type": "markdown",
   "id": "df7af9d5",
   "metadata": {},
   "source": [
    "The central idea of __information relaxation__ is to use something not available at the current period with a penalty. Let's consider a perfect information relaxation $\\Gmbb=(\\Fcal,\\cdots, \\Fcal)$. That is, we know all the realized demand before making any order decisions. Under this new set of information, we can have $\\Acal_\\Gmbb = \\Acal$.\n",
    "\n",
    "According to BS2022, Theorem 3.1, with a dual feasible penalty $\\pi$, we can have a lower bound (performance bound) for the inventory management problem\n",
    "\n",
    "$$\\Embb[\\inf_{\\alpha \\in \\Acal_\\Gmbb} r(\\alpha) - \\pi(\\alpha)]$$\n",
    "\n",
    "We can select $\\pi=0$, which provides a looser performance bound, and in most cases such a policy is called (hindsight) clairvoyant policy. The above problem can be reformulated as a dynamic lot-sizing problem and solved as a shortest path problem. For simplicity, define $f_t(x):= \\max\\{h_t x, -p_t x\\}$, and then\n",
    "\n",
    "$$\\inf_{a_0,\\cdots,a_T \\in \\Acal} \\sum_{t=0}^T k_t a_t + f_t(x_{t+1})$$\n",
    "\n",
    "The finite horizon problem can easily be solved by drawing a graph, e.g., see [this paper](https://pubsonline.informs.org/doi/abs/10.1287/opre.1070.0508?casa_token=lR--Ki6hXKgAAAAA:VPlFQ0y7c9tOHj6pPbiylIHyk1x8bmUKg8ywoacSYmwgjsyIis5vdel7hLS1Sd3y52ut0Z_ZiRP6tQ). In the case of constant costs, the optimal decision is $a_t = \\Embb[d_t]$ and hence th optimal value equals to\n",
    "$$\\sum_{t=0}^T k_t \\Embb[d_t]$$\n",
    "and in the case of time-varying costs, one has to find the equivalent ordering cost using the graph, and the optimal value is\n",
    "$$\\sum_{t=0}^T \\hat{k}_t \\Embb[d_t]$$\n",
    "\n",
    "For example, if $k_{t-1} + h_{t-1} < k_t < k_{t+1} - p_t$, then $\\hat{k}_t = k_{t-1} + h_{t-1}$. In this case, $a_t = 0$.\n",
    "\n",
    "---"
   ]
  },
  {
   "cell_type": "markdown",
   "id": "0f6fc273",
   "metadata": {},
   "source": [
    "The Proposition 3.1 in BS2022 says that a dual feasible penalty function can be in the following form\n",
    "\n",
    "$$\\pi_t(a_t) = w_t(a_t) - \\Embb[w_t(a_t) \\given \\Fcal_t]$$\n",
    "\n",
    "where $w_t(\\cdot)$ is a generating function that depends only on the set of actions until the current period $t$.\n",
    "\n",
    "Take the generating function to be the period cost, that is,\n",
    "\n",
    "$$\\pi_t(a_t) = r_t(a_t) - \\Embb[r_t(a) \\given \\Fcal_t]$$\n",
    "\n",
    "The performance bound is equivalent to \n",
    "\n",
    "$$\\Embb[\\inf_{\\alpha \\in \\Acal_\\Gmbb} \\Embb[r(\\alpha)\\given \\Fcal_t]]$$\n",
    "\n",
    "where $\\Fcal_t = (d_0, \\cdots, d_{t-1})$. More explicitly, we reformulate the inner problem as\n",
    "\n",
    "$$\n",
    "\\inf_{a_0\\cdots a_T \\in \\Acal} \\sum_{t=0}^T \\left\\{k_t a_t + \\Embb[f_t(x_{t+1}) \\given \\Fcal_t]\\right\\}\n",
    "$$\n",
    "\n",
    "This is still a dynamic lot-sizing problem with a smoothed function \n",
    "\n",
    "$$\\hat{f}_t(x_{t+1}) = \\Embb[f_t(x_{t+1}) \\given \\Fcal_t]$$\n",
    "\n",
    "which \"takes expectation over the uncertain demand $d_t$ given a particular earlier realized demand sequence $(d_0,\\cdots, d_{t-1})$.\""
   ]
  },
  {
   "cell_type": "code",
   "execution_count": 167,
   "id": "2b1dbc2c",
   "metadata": {},
   "outputs": [],
   "source": [
    "def inner_problem_2(dt, x, arange, distri, mu, k, h, p, tbl):\n",
    "    \"\"\"\n",
    "    Return (action, value) list when current inventory is x\n",
    "    Inputs:\n",
    "        x      ~ current inventory level\n",
    "        arange ~ set of available actions\n",
    "        distri ~ distribution function\n",
    "        mu     ~ parameter of the distribution\n",
    "        k      ~ unit order cost\n",
    "        h      ~ unit hold cost\n",
    "        p      ~ unit backorder cost\n",
    "        tbl    ~ value function of the next period\n",
    "    Output:\n",
    "        value  ~ hash table\n",
    "    \"\"\"\n",
    "    \n",
    "    value = dict()\n",
    "    for a in range(*arange):\n",
    "        value[a] = k * a\n",
    "        # calculate expectation\n",
    "        d = np.arange(100)\n",
    "        pr = distri.pmf(d, mu)\n",
    "        f = np.zeros((100, 2))\n",
    "        f[:,0] = h * (x + a - d)\n",
    "        f[:,1] = -p * (x + a - d)\n",
    "        nx = x + a - dt\n",
    "        nV = {'V': 0, 'a':0} if tbl is None else tbl.get(nx, {'V': np.inf, 'a': np.inf})\n",
    "        value[a] = k * a + pr @ np.max(f, axis=1) + nV['V']\n",
    "    return min(value.items(), key=lambda x: x[1])\n",
    "\n",
    "\n",
    "def smooth_DP(t, demands, param, distri=poisson,\n",
    "             srange=(-100, 100, 1), arange=(0, 100, 1), disp=False):\n",
    "    # parse parameter\n",
    "    T = param['T']\n",
    "    k = param['k'][t]\n",
    "    h = param['h'][t]\n",
    "    p = param['p'][t]\n",
    "    Ed = param['Ed'][t]\n",
    "    dt = demands[t]\n",
    "    \n",
    "    if t == T:\n",
    "        # there is no next value function\n",
    "        nV = None\n",
    "    else:\n",
    "        # fetch next period value function\n",
    "        nV = smooth_DP(\n",
    "            t+1, demands, param, distri=distri\n",
    "        )\n",
    "        \n",
    "    # solve min problem at the current period\n",
    "    \n",
    "    table = dict()\n",
    "    for x in range(*srange):\n",
    "        # action indexed current value\n",
    "        a, Vmin = inner_problem_2(\n",
    "            dt, x, arange, distri, Ed, k, h, p, nV\n",
    "        )\n",
    "        table[x] = {'V': Vmin, 'a': a}\n",
    "    \n",
    "    # display progress\n",
    "    if disp: print(f\"Period {t} is finished.\")\n",
    "        \n",
    "    return table"
   ]
  },
  {
   "cell_type": "code",
   "execution_count": 168,
   "id": "27441618",
   "metadata": {},
   "outputs": [],
   "source": [
    "def Monte_Carlo(repeats, param, distri):\n",
    "    T = param['T'] + 1\n",
    "    demands = np.zeros((repeats, 5))\n",
    "    for t in range(T):\n",
    "        mu = param['Ed'][t]\n",
    "        demands[:, t] = distri.rvs(mu, size=repeats)\n",
    "    \n",
    "    costs = np.zeros(repeats)\n",
    "    for i in range(repeats):\n",
    "        tbl = smooth_DP(0, demands[i,:], param)\n",
    "        costs[i] = tbl[0]['V']\n",
    "    \n",
    "    return costs"
   ]
  },
  {
   "cell_type": "code",
   "execution_count": 171,
   "id": "02f882d9",
   "metadata": {},
   "outputs": [],
   "source": [
    "param1 = {\n",
    "    'T': 4,\n",
    "    'k': [2, 2, 2, 2, 2],\n",
    "    'h': [1, 1, 1, 1, -1],\n",
    "    'p': [9, 9, 9, 9, 11],\n",
    "    'Ed': [40, 40, 40, 2, 2]\n",
    "}\n",
    "\n",
    "costs = Monte_Carlo(100, param1, poisson)"
   ]
  },
  {
   "cell_type": "code",
   "execution_count": 172,
   "id": "c9bbdac7",
   "metadata": {},
   "outputs": [
    {
     "data": {
      "text/plain": [
       "293.2754128462732"
      ]
     },
     "execution_count": 172,
     "metadata": {},
     "output_type": "execute_result"
    }
   ],
   "source": [
    "costs.mean()"
   ]
  },
  {
   "cell_type": "code",
   "execution_count": 173,
   "id": "355543bc",
   "metadata": {},
   "outputs": [
    {
     "data": {
      "text/plain": [
       "18.45823672806469"
      ]
     },
     "execution_count": 173,
     "metadata": {},
     "output_type": "execute_result"
    }
   ],
   "source": [
    "costs.std()"
   ]
  }
 ],
 "metadata": {
  "kernelspec": {
   "display_name": "Python 3 (ipykernel)",
   "language": "python",
   "name": "python3"
  },
  "language_info": {
   "codemirror_mode": {
    "name": "ipython",
    "version": 3
   },
   "file_extension": ".py",
   "mimetype": "text/x-python",
   "name": "python",
   "nbconvert_exporter": "python",
   "pygments_lexer": "ipython3",
   "version": "3.9.5"
  }
 },
 "nbformat": 4,
 "nbformat_minor": 5
}
